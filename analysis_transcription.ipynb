{
 "cells": [
  {
   "cell_type": "code",
   "execution_count": 6,
   "metadata": {
    "collapsed": true
   },
   "outputs": [],
   "source": [
    "import os\n",
    "import pandas as pd\n",
    "import pingouin as pg\n",
    "import matplotlib.pyplot as plt\n",
    "import seaborn as sns\n",
    "sns.set_theme(style=\"darkgrid\")\n",
    "from statsmodels.graphics.factorplots import interaction_plot\n",
    "import numpy as np\n",
    "from sklearn.metrics import cohen_kappa_score\n",
    "from scipy import stats"
   ]
  },
  {
   "cell_type": "code",
   "execution_count": 2,
   "outputs": [],
   "source": [
    "def compute_anova(df, dependent_v):\n",
    "    \"\"\"\n",
    "\n",
    "    Args:\n",
    "        df: data frame that contains the data\n",
    "        dependent_v: dependent variable\n",
    "\n",
    "    Returns:\n",
    "\n",
    "    \"\"\"\n",
    "    aov = pg.mixed_anova(dv=dependent_v, within='mode', between='condition', subject='id', data=df)\n",
    "    # printing of ANOVA summary\n",
    "    pg.print_table(aov)\n"
   ],
   "metadata": {
    "collapsed": false,
    "pycharm": {
     "name": "#%%\n"
    }
   }
  },
  {
   "cell_type": "code",
   "execution_count": 3,
   "outputs": [],
   "source": [
    "def check_assumptions(df, dv, dv_name):\n",
    "    '''\n",
    "    Checks the assumptions of a mixed ANOVA.\n",
    "\n",
    "    df (pd.DataFrame)\n",
    "    dv (str): dependent variable column name\n",
    "    dv_name (str): name of the dependent variable (to be printed)\n",
    "    '''\n",
    "\n",
    "    print(\"Checking the assumptions for the dependent variable {}...\\n\".format(dv_name))\n",
    "    all_assumptions = []\n",
    "\n",
    "    # Assumption of the residuals being normally distributed\n",
    "    df['factor_comb'] = df[\"condition\"] + '-'+ df[\"mode\"]\n",
    "    normal = pg.normality(data=df, dv=dv, group='factor_comb')\n",
    "    if normal[\"normal\"].all():\n",
    "        print(\"The residuals are approximately normally distributed for each level of the within-subjects factor (tested using the Shapiro-Wilks Test)\")\n",
    "        all_assumptions.append(True)\n",
    "    else:\n",
    "        print(\"The residuals are NOT approximately normally distributed for each level of the within-subjects factor! (tested using the Shapiro-Wilks Test)\")\n",
    "        all_assumptions.append(False)\n",
    "\n",
    "    print()\n",
    "    # Assumption of homoscedasticity\n",
    "    print(\"There should be equal variance for every level of within-subject factor:\")\n",
    "    hybrid = df[df[\"mode\"]==\"Hybrid\"].reset_index(drop=True)\n",
    "    homo_hybrid = pg.homoscedasticity(data=hybrid, dv=dv, group='condition')\n",
    "    all_assumptions.append(homo_hybrid[\"equal_var\"][0])\n",
    "    print(\"For the level Hybrid, Levene's test resulted in a p-value of {}, indicating that the assumption of equal variances is {}.\".format(homo_hybrid[\"pval\"][0].round(3), homo_hybrid[\"equal_var\"][0]))\n",
    "\n",
    "    fp = df[df[\"mode\"]==\"Firstperson\"].reset_index(drop=True)\n",
    "    homo_fp = pg.homoscedasticity(data=fp, dv=dv, group='condition')\n",
    "    all_assumptions.append(homo_fp[\"equal_var\"][0])\n",
    "    print(\"For the level First Person, Levene's test resulted in a p-value of {}, indicating that the assumption of equal variances is {}.\".format(homo_fp[\"pval\"][0].round(3), homo_fp[\"equal_var\"][0]))\n",
    "\n",
    "    print()\n",
    "    # Assumption of sphericity\n",
    "    sphericity = pg.sphericity(data=df, dv=dv, subject='id', within='condition')\n",
    "    all_assumptions.append(sphericity[0])\n",
    "    print(\"Mauchly’s test of sphericity resulted in a p-value of {}, indicating that the assumption is {}.\".format(sphericity[-1], sphericity[0]))\n",
    "\n",
    "    print()\n",
    "    # Assumption of homogeneity of the variance-covariance matrices:\n",
    "    print(\"The homogeneity of variance-covariance matrices formed by the between-subject factor for each level of the within-subject factor should be equal:\")\n",
    "    box_fp = pg.box_m(data=fp, dvs=[dv], group='condition', alpha=0.001)\n",
    "    all_assumptions.append(box_fp[\"equal_cov\"][0])\n",
    "    print(\"For the level First Person, Box’s M test resulted in a p-value of {}, indicating that the assumption is {}.\".format(box_fp[\"pval\"][0].round(3), box_fp[\"equal_cov\"][0]))\n",
    "\n",
    "    box_hybrid = pg.box_m(data=hybrid, dvs=[dv], group='condition', alpha=0.001)\n",
    "    all_assumptions.append(box_hybrid[\"equal_cov\"][0])\n",
    "    print(\"For the level Hybrid, Box’s M test resulted in a p-value of {}, indicating that the assumption is {}.\".format(box_hybrid[\"pval\"][0].round(3), box_hybrid[\"equal_cov\"][0]))\n",
    "\n",
    "    print()\n",
    "    # Assumption of no outliers\n",
    "    #outliers = df[df[dv] > df[dv].mean() + 3 * df[dv].std()]\n",
    "    outliers = df[np.abs(df[dv] - df[dv].mean()) > (3 * df[dv].std())]\n",
    "    print(\"A data point is called an outlier if it > 3 sd away from the mean.\")\n",
    "    if outliers.empty:\n",
    "        print(\"There are no outliers!\")\n",
    "        all_assumptions.append(True)\n",
    "    else:\n",
    "        print(\"There are outliers! The outliers are the participants {}\".format(outliers[\"id\"].values))\n",
    "        print(outliers)\n",
    "        all_assumptions.append(False)\n",
    "\n",
    "\n",
    "    if all(x == True for x in all_assumptions):\n",
    "        print()\n",
    "        print(\"ALL ASSUMPTIONS ARE TRUE!\")"
   ],
   "metadata": {
    "collapsed": false,
    "pycharm": {
     "name": "#%%\n"
    }
   }
  },
  {
   "cell_type": "code",
   "execution_count": 5,
   "outputs": [],
   "source": [
    "#/home/yesid/Documents/Master_semester3/VR/text_analysis_task/clean_transcription/joined_ratings.csv\n",
    "#path to csv file with transcriptions and joned ratings\n",
    "file_transcription= input()\n",
    "df_transcription = pd.read_csv(file_transcription)"
   ],
   "metadata": {
    "collapsed": false,
    "pycharm": {
     "name": "#%%\n"
    }
   }
  },
  {
   "cell_type": "markdown",
   "source": [
    "## Cohen's Kappa\n",
    "### Rating transcriptions:\n",
    "- Transcriptions were anonymized so that raters did not know what condition, mode or id a transcription belonged to.\n",
    "- Raters were handed out a csv file with a sample of the transcriptions. This file contained two columns:\n",
    "    - id_transcription: a coded representation of the id, condition and mode. (Raters did not know what this code stood for.)\n",
    "    - transcription: text with the audio file transcription.\n",
    "    - rating: raters fill out this column with any of the following:\n",
    "        - 0: which stood for undefined. The transcription was neither first person nor third person.\n",
    "        - 1: which stood for first person.\n",
    "        -  3: which stood for third person.\n",
    "\n",
    "- The rating process was carried out in two iterations:\n",
    "    - Iteration 1: raters were handed out samples of the transcriptions.\n",
    "    - Iteration 2: raters were handed out a **different** sample of the transcriptions.\n",
    "\n",
    "In this section we will use Cohen's Kappa to measure the inter-raters agreement.\n",
    "https://scikit-learn.org/stable/modules/generated/sklearn.metrics.cohen_kappa_score.html\n"
   ],
   "metadata": {
    "collapsed": false
   }
  },
  {
   "cell_type": "code",
   "execution_count": null,
   "outputs": [],
   "source": [],
   "metadata": {
    "collapsed": false,
    "pycharm": {
     "name": "#%%\n"
    }
   }
  },
  {
   "cell_type": "code",
   "execution_count": 67,
   "outputs": [
    {
     "data": {
      "text/plain": "<Figure size 1080x360 with 3 Axes>",
      "image/png": "[encoded data removed]"
     },
     "metadata": {},
     "output_type": "display_data"
    }
   ],
   "source": [
    "def plots_transcription (df_description):\n",
    "    \"\"\"\n",
    "    Gives an overview of the transcription data\n",
    "    Args:\n",
    "        df_description: data frame with the transcription and respective ratings\n",
    "\n",
    "    Returns:\n",
    "\n",
    "    \"\"\"\n",
    "    fig = plt.figure(figsize=(15, 5))\n",
    "    ax1 = fig.add_subplot(131)\n",
    "    sns.countplot(x=\"rating\", hue='condition',palette=\"tab10\", data=df_transcription,  ax=ax1)\n",
    "    ax2 = fig.add_subplot(132)\n",
    "    sns.countplot(x=\"rating\", hue='mode',palette=\"tab10\", data=df_transcription, ax=ax2)\n",
    "    ax3 = fig.add_subplot(133)\n",
    "    sns.countplot(x=\"rating\", hue='condition_mode',palette=\"tab10\", data=df_transcription, ax=ax3)\n",
    "\n",
    "\n",
    "    plt.tight_layout()\n",
    "\n",
    "plots_transcription(df_transcription)"
   ],
   "metadata": {
    "collapsed": false,
    "pycharm": {
     "name": "#%%\n"
    }
   }
  },
  {
   "cell_type": "markdown",
   "source": [
    "The effect of the condition/treatment on the dependent variable -- whether someone is speaking in first, third person or undefined-- does or does not depend on the mode."
   ],
   "metadata": {
    "collapsed": false
   }
  },
  {
   "cell_type": "code",
   "execution_count": 12,
   "outputs": [
    {
     "name": "stdout",
     "output_type": "stream",
     "text": [
      "Checking the assumptions for the dependent variable rating...\n",
      "\n",
      "The residuals are NOT approximately normally distributed for each level of the within-subjects factor! (tested using the Shapiro-Wilks Test)\n",
      "\n",
      "There should be equal variance for every level of within-subject factor:\n",
      "For the level Hybrid, Levene's test resulted in a p-value of 0.289, indicating that the assumption of equal variances is True.\n",
      "For the level First Person, Levene's test resulted in a p-value of 0.15, indicating that the assumption of equal variances is True.\n",
      "\n",
      "Mauchly’s test of sphericity resulted in a p-value of 1.0, indicating that the assumption is True.\n",
      "\n",
      "The homogeneity of variance-covariance matrices formed by the between-subject factor for each level of the within-subject factor should be equal:\n",
      "For the level First Person, Box’s M test resulted in a p-value of 0.205, indicating that the assumption is True.\n",
      "For the level Hybrid, Box’s M test resulted in a p-value of 0.646, indicating that the assumption is True.\n",
      "\n",
      "A data point is called an outlier if it > 3 sd away from the mean.\n",
      "There are no outliers!\n"
     ]
    }
   ],
   "source": [
    "check_assumptions(df_transcription,'rating','rating')"
   ],
   "metadata": {
    "collapsed": false,
    "pycharm": {
     "name": "#%%\n"
    }
   }
  },
  {
   "cell_type": "code",
   "execution_count": 4,
   "outputs": [
    {
     "name": "stdout",
     "output_type": "stream",
     "text": [
      "\n",
      "=============\n",
      "ANOVA SUMMARY\n",
      "=============\n",
      "\n",
      "Source          SS    DF1    DF2     MS       F    p-unc    np2      eps\n",
      "-----------  -----  -----  -----  -----  ------  -------  -----  -------\n",
      "condition    0.281      1     81  0.281   0.432    0.513  0.005  nan\n",
      "mode         3.086      1     81  3.086  12.827    0.001  0.137    1.000\n",
      "Interaction  0.006      1     81  0.006   0.024    0.877  0.000  nan\n",
      "\n"
     ]
    }
   ],
   "source": [
    "aov = pg.mixed_anova(dv='rating', within='mode', between='condition', subject='id', data=df_transcription)\n",
    "# Pretty printing of ANOVA summary\n",
    "pg.print_table(aov)"
   ],
   "metadata": {
    "collapsed": false,
    "pycharm": {
     "name": "#%%\n"
    }
   }
  },
  {
   "cell_type": "code",
   "execution_count": null,
   "outputs": [],
   "source": [],
   "metadata": {
    "collapsed": false,
    "pycharm": {
     "name": "#%%\n"
    }
   }
  }
 ],
 "metadata": {
  "kernelspec": {
   "display_name": "Python 3",
   "language": "python",
   "name": "python3"
  },
  "language_info": {
   "codemirror_mode": {
    "name": "ipython",
    "version": 2
   },
   "file_extension": ".py",
   "mimetype": "text/x-python",
   "name": "python",
   "nbconvert_exporter": "python",
   "pygments_lexer": "ipython2",
   "version": "2.7.6"
  }
 },
 "nbformat": 4,
 "nbformat_minor": 0
}