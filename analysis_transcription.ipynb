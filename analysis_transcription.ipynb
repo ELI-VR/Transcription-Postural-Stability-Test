{
 "cells": [
  {
   "cell_type": "code",
   "execution_count": 33,
   "metadata": {
    "collapsed": true
   },
   "outputs": [],
   "source": [
    "import os\n",
    "import pandas as pd\n",
    "import pingouin as pg\n",
    "import matplotlib.pyplot as plt\n",
    "import seaborn as sns\n",
    "sns.set_theme(style= \"whitegrid\" )\n",
    "import numpy as np\n",
    "import sklearn.metrics\n"
   ]
  },
  {
   "cell_type": "code",
   "execution_count": 34,
   "outputs": [],
   "source": [
    "def compute_anova(df, dependent_v):\n",
    "    \"\"\"\n",
    "\n",
    "    Args:\n",
    "        df: data frame that contains the data\n",
    "        dependent_v: dependent variable\n",
    "\n",
    "    Returns:\n",
    "\n",
    "    \"\"\"\n",
    "    aov = pg.mixed_anova(dv=dependent_v, within='mode', between='condition', subject='id', data=df)\n",
    "    # printing of ANOVA summary\n",
    "    pg.print_table(aov)\n"
   ],
   "metadata": {
    "collapsed": false,
    "pycharm": {
     "name": "#%%\n"
    }
   }
  },
  {
   "cell_type": "code",
   "execution_count": 35,
   "outputs": [],
   "source": [
    "#The code to check the assumptions was provided by zora-no https://github.com/zora-no\n",
    "def check_assumptions(df, dv, dv_name):\n",
    "    '''\n",
    "    Checks the assumptions of a mixed ANOVA.\n",
    "\n",
    "    df (pd.DataFrame)\n",
    "    dv (str): dependent variable column name\n",
    "    dv_name (str): name of the dependent variable (to be printed)\n",
    "    '''\n",
    "\n",
    "    print(\"Checking the assumptions for the dependent variable {}...\\n\".format(dv_name))\n",
    "    all_assumptions = []\n",
    "\n",
    "    # Assumption of the residuals being normally distributed\n",
    "    df['factor_comb'] = df[\"condition\"] + '-'+ df[\"mode\"]\n",
    "    normal = pg.normality(data=df, dv=dv, group='factor_comb')\n",
    "    if normal[\"normal\"].all():\n",
    "        print(\"The residuals are approximately normally distributed for each level of the within-subjects factor (tested using the Shapiro-Wilks Test)\")\n",
    "        all_assumptions.append(True)\n",
    "    else:\n",
    "        print(\"The residuals are NOT approximately normally distributed for each level of the within-subjects factor! (tested using the Shapiro-Wilks Test)\")\n",
    "        all_assumptions.append(False)\n",
    "\n",
    "    print()\n",
    "    # Assumption of homoscedasticity\n",
    "    print(\"There should be equal variance for every level of within-subject factor:\")\n",
    "    hybrid = df[df[\"mode\"]==\"Hybrid\"].reset_index(drop=True)\n",
    "    homo_hybrid = pg.homoscedasticity(data=hybrid, dv=dv, group='condition')\n",
    "    all_assumptions.append(homo_hybrid[\"equal_var\"][0])\n",
    "    print(\"For the level Hybrid, Levene's test resulted in a p-value of {}, indicating that the assumption of equal variances is {}.\".format(homo_hybrid[\"pval\"][0].round(3), homo_hybrid[\"equal_var\"][0]))\n",
    "\n",
    "    fp = df[df[\"mode\"]==\"Firstperson\"].reset_index(drop=True)\n",
    "    homo_fp = pg.homoscedasticity(data=fp, dv=dv, group='condition')\n",
    "    all_assumptions.append(homo_fp[\"equal_var\"][0])\n",
    "    print(\"For the level First Person, Levene's test resulted in a p-value of {}, indicating that the assumption of equal variances is {}.\".format(homo_fp[\"pval\"][0].round(3), homo_fp[\"equal_var\"][0]))\n",
    "\n",
    "    print()\n",
    "    # Assumption of sphericity\n",
    "    sphericity = pg.sphericity(data=df, dv=dv, subject='id', within='condition')\n",
    "    all_assumptions.append(sphericity[0])\n",
    "    print(\"Mauchly’s test of sphericity resulted in a p-value of {}, indicating that the assumption is {}.\".format(sphericity[-1], sphericity[0]))\n",
    "\n",
    "    print()\n",
    "    # Assumption of homogeneity of the variance-covariance matrices:\n",
    "    print(\"The homogeneity of variance-covariance matrices formed by the between-subject factor for each level of the within-subject factor should be equal:\")\n",
    "    box_fp = pg.box_m(data=fp, dvs=[dv], group='condition', alpha=0.001)\n",
    "    all_assumptions.append(box_fp[\"equal_cov\"][0])\n",
    "    print(\"For the level First Person, Box’s M test resulted in a p-value of {}, indicating that the assumption is {}.\".format(box_fp[\"pval\"][0].round(3), box_fp[\"equal_cov\"][0]))\n",
    "\n",
    "    box_hybrid = pg.box_m(data=hybrid, dvs=[dv], group='condition', alpha=0.001)\n",
    "    all_assumptions.append(box_hybrid[\"equal_cov\"][0])\n",
    "    print(\"For the level Hybrid, Box’s M test resulted in a p-value of {}, indicating that the assumption is {}.\".format(box_hybrid[\"pval\"][0].round(3), box_hybrid[\"equal_cov\"][0]))\n",
    "\n",
    "    print()\n",
    "    # Assumption of no outliers\n",
    "    #outliers = df[df[dv] > df[dv].mean() + 3 * df[dv].std()]\n",
    "    outliers = df[np.abs(df[dv] - df[dv].mean()) > (3 * df[dv].std())]\n",
    "    print(\"A data point is called an outlier if it > 3 sd away from the mean.\")\n",
    "    if outliers.empty:\n",
    "        print(\"There are no outliers!\")\n",
    "        all_assumptions.append(True)\n",
    "    else:\n",
    "        print(\"There are outliers! The outliers are the participants {}\".format(outliers[\"id\"].values))\n",
    "        print(outliers)\n",
    "        all_assumptions.append(False)\n",
    "\n",
    "\n",
    "    if all(x == True for x in all_assumptions):\n",
    "        print()\n",
    "        print(\"ALL ASSUMPTIONS ARE TRUE!\")"
   ],
   "metadata": {
    "collapsed": false,
    "pycharm": {
     "name": "#%%\n"
    }
   }
  },
  {
   "cell_type": "code",
   "execution_count": 59,
   "outputs": [],
   "source": [
    "def plots_transcription (df_transcription):\n",
    "    \"\"\"\n",
    "    Gives an overview of the transcription data\n",
    "    Args:\n",
    "        df_transcription: data frame with the transcription and respective ratings\n",
    "\n",
    "    Returns:\n",
    "\n",
    "    \"\"\"\n",
    "    fig = plt.figure(figsize=(25, 15))\n",
    "    ax1 = fig.add_subplot(331)\n",
    "    sns.countplot(x='rating_1', hue='condition',palette=\"tab10\", data=df_transcription,  ax=ax1)\n",
    "    plt.legend(title='Condition')\n",
    "    plt.xlabel(\"Rating 1\")\n",
    "    ax2 = fig.add_subplot(332)\n",
    "    plt.title(label=\"Audio recording rating 1\",\n",
    "          fontsize=20,\n",
    "          color=\"black\",\n",
    "              loc='center')\n",
    "    sns.countplot(x='rating_1', hue='mode',palette=\"tab10\", data=df_transcription, ax=ax2)\n",
    "    plt.legend(title='Mode')\n",
    "    plt.xlabel(\"Rating 1\")\n",
    "    ax3 = fig.add_subplot(333)\n",
    "    sns.countplot(x='rating_1', hue='condition_mode',palette=\"tab10\", data=df_transcription, ax=ax3)\n",
    "    plt.xlabel(\"Rating 1\")\n",
    "    plt.legend(title='Condition-Mode')\n",
    "    ax4 = fig.add_subplot(334)\n",
    "    sns.countplot(x='rating_2', hue='condition',palette=\"tab10\", data=df_transcription,  ax=ax4)\n",
    "    plt.xlabel(\"Rating 2\")\n",
    "    plt.legend(title='Condition')\n",
    "    ax5 = fig.add_subplot(335)\n",
    "    plt.title(label=\"Audio recording rating 1\",\n",
    "          fontsize=20,\n",
    "          color=\"black\",\n",
    "              loc='center')\n",
    "    sns.countplot(x='rating_2', hue='mode',palette=\"tab10\", data=df_transcription, ax=ax5)\n",
    "    plt.xlabel(\"Rating 2\")\n",
    "    plt.legend(title='Mode')\n",
    "    ax6 = fig.add_subplot(336)\n",
    "    sns.countplot(x='rating_2', hue='condition_mode',palette=\"tab10\", data=df_transcription, ax=ax6)\n",
    "    plt.xlabel(\"Rating 2\")\n",
    "    plt.legend(title='Condition-Mode')\n",
    "\n",
    "    plt.tight_layout()\n"
   ],
   "metadata": {
    "collapsed": false,
    "pycharm": {
     "name": "#%%\n"
    }
   }
  },
  {
   "cell_type": "code",
   "execution_count": 37,
   "outputs": [],
   "source": [
    "#path to csv file with transcriptions and joined ratings\n",
    "file_transcription= input()\n",
    "df_transcription = pd.read_csv(file_transcription)"
   ],
   "metadata": {
    "collapsed": false,
    "pycharm": {
     "name": "#%%\n"
    }
   }
  },
  {
   "cell_type": "code",
   "execution_count": 38,
   "outputs": [
    {
     "data": {
      "text/plain": "     id  rating_1  rating_2 condition         mode     condition_mode  \\\n393  44         2         1    Avatar  Firstperson  AvatarFirstperson   \n\n     station                                      transcription  \n393        4  loch war in ein wäldchen in dem ein grosses ha...  ",
      "text/html": "<div>\n<style scoped>\n    .dataframe tbody tr th:only-of-type {\n        vertical-align: middle;\n    }\n\n    .dataframe tbody tr th {\n        vertical-align: top;\n    }\n\n    .dataframe thead th {\n        text-align: right;\n    }\n</style>\n<table border=\"1\" class=\"dataframe\">\n  <thead>\n    <tr style=\"text-align: right;\">\n      <th></th>\n      <th>id</th>\n      <th>rating_1</th>\n      <th>rating_2</th>\n      <th>condition</th>\n      <th>mode</th>\n      <th>condition_mode</th>\n      <th>station</th>\n      <th>transcription</th>\n    </tr>\n  </thead>\n  <tbody>\n    <tr>\n      <th>393</th>\n      <td>44</td>\n      <td>2</td>\n      <td>1</td>\n      <td>Avatar</td>\n      <td>Firstperson</td>\n      <td>AvatarFirstperson</td>\n      <td>4</td>\n      <td>loch war in ein wäldchen in dem ein grosses ha...</td>\n    </tr>\n  </tbody>\n</table>\n</div>"
     },
     "execution_count": 38,
     "metadata": {},
     "output_type": "execute_result"
    }
   ],
   "source": [
    "#One of the annotators mistakenly rated this transcription with a 2\n",
    "df_transcription[df_transcription['rating_1']==2]"
   ],
   "metadata": {
    "collapsed": false,
    "pycharm": {
     "name": "#%%\n"
    }
   }
  },
  {
   "cell_type": "code",
   "execution_count": 39,
   "outputs": [
    {
     "name": "stdout",
     "output_type": "stream",
     "text": [
      "Resulting number of transcriptions: 771\n"
     ]
    }
   ],
   "source": [
    "df_transcription = df_transcription[df_transcription['rating_1']!=2]\n",
    "print (f'Resulting number of transcriptions: {df_transcription.shape[0]}')"
   ],
   "metadata": {
    "collapsed": false,
    "pycharm": {
     "name": "#%%\n"
    }
   }
  },
  {
   "cell_type": "code",
   "execution_count": 40,
   "outputs": [
    {
     "name": "stdout",
     "output_type": "stream",
     "text": [
      "Resulting number of transcriptions: 753\n"
     ]
    }
   ],
   "source": [
    "# Participants 22 , 66, 75, 81 aborted the experiment, hence they will be excluded from the analysis\n",
    "df_transcription =df_transcription[df_transcription['id'] != 22]\n",
    "df_transcription = df_transcription[df_transcription['id'] != 66]\n",
    "df_transcription = df_transcription[df_transcription['id'] != 75]\n",
    "df_transcription = df_transcription[df_transcription['id'] != 81]\n",
    "print(f'Resulting number of transcriptions: {df_transcription.shape[0]}')"
   ],
   "metadata": {
    "collapsed": false,
    "pycharm": {
     "name": "#%%\n"
    }
   }
  },
  {
   "cell_type": "code",
   "execution_count": 41,
   "outputs": [
    {
     "name": "stdout",
     "output_type": "stream",
     "text": [
      "Resulting number of transcriptions: 743\n"
     ]
    }
   ],
   "source": [
    "# Exclude unsuccessful transcriptions due to audio recording issues.\n",
    "df_transcription = df_transcription[df_transcription['transcription'] != '   ']\n",
    "# df_transcription = df_transcription[(df_transcription['id']==84) & (df_transcription['condition_mode']=='AvatarHybrid') & (df_transcription['condition_mode']=='AvatarHybrid')&(df_transcription['station']!=2)]\n",
    "df_transcription = df_transcription[df_transcription['transcription']!= 'A O WESE O  OI   ']\n",
    "print (f'Resulting number of transcriptions: {df_transcription.shape[0]}')"
   ],
   "metadata": {
    "collapsed": false,
    "pycharm": {
     "name": "#%%\n"
    }
   }
  },
  {
   "cell_type": "markdown",
   "source": [
    "## Cohen's Kappa\n",
    "### Rating transcriptions:\n",
    "- Transcriptions were anonymized so that raters did not know what condition, mode or id a transcription belonged to.\n",
    "- Raters were handed out a csv file with a sample of the transcriptions. This file contained two columns:\n",
    "    - id_transcription: a coded representation of the id, condition and mode. (Raters did not know what this code stood for.)\n",
    "    - transcription: text with the audio file transcription.\n",
    "    - rating: raters fill out this column with any of the following:\n",
    "        - 0: which stood for undefined. The transcription was neither first person nor third person.\n",
    "        - 1: which stood for first person.\n",
    "        -  3: which stood for third person.\n",
    "\n",
    "- The rating process was carried out in two iterations:\n",
    "    - Iteration 1: raters were handed out samples of the transcriptions.\n",
    "    - Iteration 2: raters were handed out a **different** sample of the transcriptions.\n",
    "\n",
    "In this section we will use Cohen's Kappa to measure the agreement between the two raters when classifying the transcriptions.\n",
    "https://scikit-learn.org/stable/modules/generated/sklearn.metrics.cohen_kappa_score.html"
   ],
   "metadata": {
    "collapsed": false
   }
  },
  {
   "cell_type": "code",
   "execution_count": 42,
   "outputs": [
    {
     "data": {
      "text/plain": "0.2774385319839865"
     },
     "execution_count": 42,
     "metadata": {},
     "output_type": "execute_result"
    }
   ],
   "source": [
    "sklearn.metrics.cohen_kappa_score(df_transcription['rating_1'].values, df_transcription['rating_2'].values)"
   ],
   "metadata": {
    "collapsed": false,
    "pycharm": {
     "name": "#%%\n"
    }
   }
  },
  {
   "cell_type": "markdown",
   "source": [
    "#### Cohen's kappa interpretation:\n",
    "<a href=\"https://scikit-learn.org/stable/modules/generated/sklearn.metrics.cohen_kappa_score.html\">The kappa statistic, which is a number between -1 and 1. The maximum value means complete agreement; zero or lower means chance agreement.</a> Thus, given a kappa statistic of 0.27 (see above) we can conclude that there is some mutual agreement between the raters."
   ],
   "metadata": {
    "collapsed": false
   }
  },
  {
   "cell_type": "markdown",
   "source": [
    "### Rating visualization:"
   ],
   "metadata": {
    "collapsed": false
   }
  },
  {
   "cell_type": "code",
   "execution_count": 60,
   "outputs": [
    {
     "data": {
      "text/plain": "<Figure size 1800x1080 with 6 Axes>",
      "image/png": "[encoded data removed]"
     },
     "metadata": {},
     "output_type": "display_data"
    }
   ],
   "source": [
    "plots_transcription(df_transcription)"
   ],
   "metadata": {
    "collapsed": false,
    "pycharm": {
     "name": "#%%\n"
    }
   }
  },
  {
   "cell_type": "markdown",
   "source": [
    "### Assumptions check and Anova"
   ],
   "metadata": {
    "collapsed": false
   }
  },
  {
   "cell_type": "markdown",
   "source": [
    "#### Rating_1"
   ],
   "metadata": {
    "collapsed": false
   }
  },
  {
   "cell_type": "code",
   "execution_count": 104,
   "outputs": [
    {
     "name": "stdout",
     "output_type": "stream",
     "text": [
      "Checking the assumptions for the dependent variable rating_1...\n",
      "\n",
      "The residuals are NOT approximately normally distributed for each level of the within-subjects factor! (tested using the Shapiro-Wilks Test)\n",
      "\n",
      "There should be equal variance for every level of within-subject factor:\n",
      "For the level Hybrid, Levene's test resulted in a p-value of 0.267, indicating that the assumption of equal variances is True.\n",
      "For the level First Person, Levene's test resulted in a p-value of 0.173, indicating that the assumption of equal variances is True.\n",
      "\n",
      "Mauchly’s test of sphericity resulted in a p-value of 1.0, indicating that the assumption is True.\n",
      "\n",
      "The homogeneity of variance-covariance matrices formed by the between-subject factor for each level of the within-subject factor should be equal:\n",
      "For the level First Person, Box’s M test resulted in a p-value of 0.223, indicating that the assumption is True.\n",
      "For the level Hybrid, Box’s M test resulted in a p-value of 0.76, indicating that the assumption is True.\n",
      "\n",
      "A data point is called an outlier if it > 3 sd away from the mean.\n",
      "There are no outliers!\n"
     ]
    }
   ],
   "source": [
    "check_assumptions(df_transcription,'rating_1','rating_1')"
   ],
   "metadata": {
    "collapsed": false,
    "pycharm": {
     "name": "#%%\n"
    }
   }
  },
  {
   "cell_type": "code",
   "execution_count": 105,
   "outputs": [
    {
     "name": "stdout",
     "output_type": "stream",
     "text": [
      "\n",
      "=============\n",
      "ANOVA SUMMARY\n",
      "=============\n",
      "\n",
      "Source          SS    DF1    DF2     MS      F    p-unc    np2      eps\n",
      "-----------  -----  -----  -----  -----  -----  -------  -----  -------\n",
      "condition    0.427      1     79  0.427  0.627    0.431  0.008  nan\n",
      "mode         2.155      1     79  2.155  9.910    0.002  0.111    1.000\n",
      "Interaction  0.070      1     79  0.070  0.321    0.573  0.004  nan\n",
      "\n"
     ]
    }
   ],
   "source": [
    "aov = pg.mixed_anova(dv='rating_1', within='mode', between='condition', subject='id', data=df_transcription)\n",
    "# Pretty printing of ANOVA summary\n",
    "pg.print_table(aov)"
   ],
   "metadata": {
    "collapsed": false,
    "pycharm": {
     "name": "#%%\n"
    }
   }
  },
  {
   "cell_type": "markdown",
   "source": [
    "#### Rating_2"
   ],
   "metadata": {
    "collapsed": false
   }
  },
  {
   "cell_type": "code",
   "execution_count": 106,
   "outputs": [
    {
     "name": "stdout",
     "output_type": "stream",
     "text": [
      "Checking the assumptions for the dependent variable rating_2...\n",
      "\n",
      "The residuals are NOT approximately normally distributed for each level of the within-subjects factor! (tested using the Shapiro-Wilks Test)\n",
      "\n",
      "There should be equal variance for every level of within-subject factor:\n",
      "For the level Hybrid, Levene's test resulted in a p-value of 0.576, indicating that the assumption of equal variances is True.\n",
      "For the level First Person, Levene's test resulted in a p-value of 0.426, indicating that the assumption of equal variances is True.\n",
      "\n",
      "Mauchly’s test of sphericity resulted in a p-value of 1.0, indicating that the assumption is True.\n",
      "\n",
      "The homogeneity of variance-covariance matrices formed by the between-subject factor for each level of the within-subject factor should be equal:\n",
      "For the level First Person, Box’s M test resulted in a p-value of 0.476, indicating that the assumption is True.\n",
      "For the level Hybrid, Box’s M test resulted in a p-value of 0.714, indicating that the assumption is True.\n",
      "\n",
      "A data point is called an outlier if it > 3 sd away from the mean.\n",
      "There are no outliers!\n"
     ]
    }
   ],
   "source": [
    "check_assumptions(df_transcription,'rating_2','rating_2')"
   ],
   "metadata": {
    "collapsed": false,
    "pycharm": {
     "name": "#%%\n"
    }
   }
  },
  {
   "cell_type": "code",
   "execution_count": 107,
   "outputs": [
    {
     "name": "stdout",
     "output_type": "stream",
     "text": [
      "\n",
      "=============\n",
      "ANOVA SUMMARY\n",
      "=============\n",
      "\n",
      "Source          SS    DF1    DF2     MS      F    p-unc    np2      eps\n",
      "-----------  -----  -----  -----  -----  -----  -------  -----  -------\n",
      "condition    0.058      1     79  0.058  0.112    0.739  0.001  nan\n",
      "mode         0.173      1     79  0.173  0.966    0.329  0.012    1.000\n",
      "Interaction  0.008      1     79  0.008  0.042    0.838  0.001  nan\n",
      "\n"
     ]
    }
   ],
   "source": [
    "aov = pg.mixed_anova(dv='rating_2', within='mode', between='condition', subject='id', data=df_transcription)\n",
    "# Pretty printing of ANOVA summary\n",
    "pg.print_table(aov)"
   ],
   "metadata": {
    "collapsed": false,
    "pycharm": {
     "name": "#%%\n"
    }
   }
  },
  {
   "cell_type": "code",
   "execution_count": null,
   "outputs": [],
   "source": [],
   "metadata": {
    "collapsed": false,
    "pycharm": {
     "name": "#%%\n"
    }
   }
  }
 ],
 "metadata": {
  "kernelspec": {
   "display_name": "Python 3",
   "language": "python",
   "name": "python3"
  },
  "language_info": {
   "codemirror_mode": {
    "name": "ipython",
    "version": 2
   },
   "file_extension": ".py",
   "mimetype": "text/x-python",
   "name": "python",
   "nbconvert_exporter": "python",
   "pygments_lexer": "ipython2",
   "version": "2.7.6"
  }
 },
 "nbformat": 4,
 "nbformat_minor": 0
}