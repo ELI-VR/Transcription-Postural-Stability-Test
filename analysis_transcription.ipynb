{
 "cells": [
  {
   "cell_type": "code",
   "execution_count": 1,
   "metadata": {
    "collapsed": true
   },
   "outputs": [],
   "source": [
    "import os\n",
    "import pandas as pd\n",
    "import pingouin as pg\n",
    "import matplotlib.pyplot as plt\n",
    "import seaborn as sns\n",
    "sns.set_theme(style= \"whitegrid\" )\n",
    "import numpy as np\n",
    "import sklearn.metrics\n"
   ]
  },
  {
   "cell_type": "code",
   "execution_count": 2,
   "outputs": [],
   "source": [
    "def compute_anova(df, dependent_v):\n",
    "    \"\"\"\n",
    "\n",
    "    Args:\n",
    "        df: data frame that contains the data\n",
    "        dependent_v: dependent variable\n",
    "\n",
    "    Returns:\n",
    "\n",
    "    \"\"\"\n",
    "    aov = pg.mixed_anova(dv=dependent_v, within='mode', between='condition', subject='id', data=df)\n",
    "    # printing of ANOVA summary\n",
    "    pg.print_table(aov)\n"
   ],
   "metadata": {
    "collapsed": false,
    "pycharm": {
     "name": "#%%\n"
    }
   }
  },
  {
   "cell_type": "code",
   "execution_count": 3,
   "outputs": [],
   "source": [
    "#The code to check the assumptions was provided by zora-no https://github.com/zora-no\n",
    "def check_assumptions(df, dv, dv_name):\n",
    "    '''\n",
    "    Checks the assumptions of a mixed ANOVA.\n",
    "\n",
    "    df (pd.DataFrame)\n",
    "    dv (str): dependent variable column name\n",
    "    dv_name (str): name of the dependent variable (to be printed)\n",
    "    '''\n",
    "\n",
    "    print(\"Checking the assumptions for the dependent variable {}...\\n\".format(dv_name))\n",
    "    all_assumptions = []\n",
    "\n",
    "    # Assumption of the residuals being normally distributed\n",
    "    df['factor_comb'] = df[\"condition\"] + '-'+ df[\"mode\"]\n",
    "    normal = pg.normality(data=df, dv=dv, group='factor_comb')\n",
    "    if normal[\"normal\"].all():\n",
    "        print(\"The residuals are approximately normally distributed for each level of the within-subjects factor (tested using the Shapiro-Wilks Test)\")\n",
    "        all_assumptions.append(True)\n",
    "    else:\n",
    "        print(\"The residuals are NOT approximately normally distributed for each level of the within-subjects factor! (tested using the Shapiro-Wilks Test)\")\n",
    "        all_assumptions.append(False)\n",
    "\n",
    "    print()\n",
    "    # Assumption of homoscedasticity\n",
    "    print(\"There should be equal variance for every level of within-subject factor:\")\n",
    "    hybrid = df[df[\"mode\"]==\"Hybrid\"].reset_index(drop=True)\n",
    "    homo_hybrid = pg.homoscedasticity(data=hybrid, dv=dv, group='condition')\n",
    "    all_assumptions.append(homo_hybrid[\"equal_var\"][0])\n",
    "    print(\"For the level Hybrid, Levene's test resulted in a p-value of {}, indicating that the assumption of equal variances is {}.\".format(homo_hybrid[\"pval\"][0].round(3), homo_hybrid[\"equal_var\"][0]))\n",
    "\n",
    "    fp = df[df[\"mode\"]==\"Firstperson\"].reset_index(drop=True)\n",
    "    homo_fp = pg.homoscedasticity(data=fp, dv=dv, group='condition')\n",
    "    all_assumptions.append(homo_fp[\"equal_var\"][0])\n",
    "    print(\"For the level First Person, Levene's test resulted in a p-value of {}, indicating that the assumption of equal variances is {}.\".format(homo_fp[\"pval\"][0].round(3), homo_fp[\"equal_var\"][0]))\n",
    "\n",
    "    print()\n",
    "    # Assumption of sphericity\n",
    "    sphericity = pg.sphericity(data=df, dv=dv, subject='id', within='condition')\n",
    "    all_assumptions.append(sphericity[0])\n",
    "    print(\"Mauchly’s test of sphericity resulted in a p-value of {}, indicating that the assumption is {}.\".format(sphericity[-1], sphericity[0]))\n",
    "\n",
    "    print()\n",
    "    # Assumption of homogeneity of the variance-covariance matrices:\n",
    "    print(\"The homogeneity of variance-covariance matrices formed by the between-subject factor for each level of the within-subject factor should be equal:\")\n",
    "    box_fp = pg.box_m(data=fp, dvs=[dv], group='condition', alpha=0.001)\n",
    "    all_assumptions.append(box_fp[\"equal_cov\"][0])\n",
    "    print(\"For the level First Person, Box’s M test resulted in a p-value of {}, indicating that the assumption is {}.\".format(box_fp[\"pval\"][0].round(3), box_fp[\"equal_cov\"][0]))\n",
    "\n",
    "    box_hybrid = pg.box_m(data=hybrid, dvs=[dv], group='condition', alpha=0.001)\n",
    "    all_assumptions.append(box_hybrid[\"equal_cov\"][0])\n",
    "    print(\"For the level Hybrid, Box’s M test resulted in a p-value of {}, indicating that the assumption is {}.\".format(box_hybrid[\"pval\"][0].round(3), box_hybrid[\"equal_cov\"][0]))\n",
    "\n",
    "    print()\n",
    "    # Assumption of no outliers\n",
    "    #outliers = df[df[dv] > df[dv].mean() + 3 * df[dv].std()]\n",
    "    outliers = df[np.abs(df[dv] - df[dv].mean()) > (3 * df[dv].std())]\n",
    "    print(\"A data point is called an outlier if it > 3 sd away from the mean.\")\n",
    "    if outliers.empty:\n",
    "        print(\"There are no outliers!\")\n",
    "        all_assumptions.append(True)\n",
    "    else:\n",
    "        print(\"There are outliers! The outliers are the participants {}\".format(outliers[\"id\"].values))\n",
    "        print(outliers)\n",
    "        all_assumptions.append(False)\n",
    "\n",
    "\n",
    "    if all(x == True for x in all_assumptions):\n",
    "        print()\n",
    "        print(\"ALL ASSUMPTIONS ARE TRUE!\")"
   ],
   "metadata": {
    "collapsed": false,
    "pycharm": {
     "name": "#%%\n"
    }
   }
  },
  {
   "cell_type": "code",
   "execution_count": 4,
   "outputs": [],
   "source": [
    "def plots_transcription (df_transcription):\n",
    "    \"\"\"\n",
    "    Gives an overview of the transcription data\n",
    "    Args:\n",
    "        df_transcription: data frame with the transcription and respective ratings\n",
    "\n",
    "    Returns:\n",
    "\n",
    "    \"\"\"\n",
    "    fig = plt.figure(figsize=(25, 15))\n",
    "\n",
    "    ax1 = fig.add_subplot(331)\n",
    "    plt.title(label=\"Audio recording 1 Condition\",\n",
    "              fontsize=20,\n",
    "              color=\"black\",\n",
    "              loc='center')\n",
    "    sns.countplot(x='rating_1', hue='condition',palette=\"tab10\", data=df_transcription,  ax=ax1)\n",
    "    plt.legend(title='Condition')\n",
    "    plt.xlabel(\"Rating 1\")\n",
    "\n",
    "    ax2 = fig.add_subplot(332)\n",
    "    plt.title(label=\"Audio recording 1 Mode \",\n",
    "          fontsize=20,\n",
    "          color=\"black\",\n",
    "              loc='center')\n",
    "    sns.countplot(x='rating_1', hue='mode',palette=\"tab10\", data=df_transcription, ax=ax2)\n",
    "    plt.legend(title='Mode')\n",
    "    plt.xlabel(\"Rating 1\")\n",
    "\n",
    "\n",
    "    #ax3 = fig.add_subplot(333)\n",
    "    #sns.countplot(x='rating_1', hue='condition_mode',palette=\"tab10\", data=df_transcription, ax=ax3)\n",
    "    #plt.xlabel(\"Rating 1\")\n",
    "    #plt.legend(title='Condition-Mode')\n",
    "\n",
    "\n",
    "    ax4 = fig.add_subplot(334)\n",
    "    plt.title(label=\"Audio recording 2 Condition\",\n",
    "              fontsize=20,\n",
    "              color=\"black\",\n",
    "              loc='center')\n",
    "    sns.countplot(x='rating_2', hue='condition',palette=\"tab10\", data=df_transcription,  ax=ax4)\n",
    "    plt.xlabel(\"Rating 2\")\n",
    "    plt.legend(title='Condition')\n",
    "\n",
    "\n",
    "    ax5 = fig.add_subplot(335)\n",
    "    plt.title(label=\"Audio recording 2 Mode\",\n",
    "          fontsize=20,\n",
    "          color=\"black\",\n",
    "              loc='center')\n",
    "    sns.countplot(x='rating_2', hue='mode',palette=\"tab10\", data=df_transcription, ax=ax5)\n",
    "    plt.xlabel(\"Rating 2\")\n",
    "    plt.legend(title='Mode')\n",
    "\n",
    "\n",
    "    #ax6 = fig.add_subplot(336)\n",
    "    #sns.countplot(x='rating_2', hue='condition_mode',palette=\"tab10\", data=df_transcription, ax=ax6)\n",
    "   # plt.xlabel(\"Rating 2\")\n",
    "  #  plt.legend(title='Condition-Mode')\n",
    "\n",
    "    plt.tight_layout()\n"
   ],
   "metadata": {
    "collapsed": false,
    "pycharm": {
     "name": "#%%\n"
    }
   }
  },
  {
   "cell_type": "code",
   "execution_count": 10,
   "outputs": [],
   "source": [
    "#path to csv file with transcriptions and joined ratings\n",
    "df_transcription = pd.read_csv('nlp/data/joined_rating_transcriptions.csv')"
   ],
   "metadata": {
    "collapsed": false,
    "pycharm": {
     "name": "#%%\n"
    }
   }
  },
  {
   "cell_type": "code",
   "execution_count": 11,
   "outputs": [
    {
     "data": {
      "text/plain": "     id  rating_1  rating_2 condition         mode     condition_mode  \\\n393  44         2         1    Avatar  Firstperson  AvatarFirstperson   \n\n     station                                      transcription  \n393        4  loch war in ein wäldchen in dem ein grosses ha...  ",
      "text/html": "<div>\n<style scoped>\n    .dataframe tbody tr th:only-of-type {\n        vertical-align: middle;\n    }\n\n    .dataframe tbody tr th {\n        vertical-align: top;\n    }\n\n    .dataframe thead th {\n        text-align: right;\n    }\n</style>\n<table border=\"1\" class=\"dataframe\">\n  <thead>\n    <tr style=\"text-align: right;\">\n      <th></th>\n      <th>id</th>\n      <th>rating_1</th>\n      <th>rating_2</th>\n      <th>condition</th>\n      <th>mode</th>\n      <th>condition_mode</th>\n      <th>station</th>\n      <th>transcription</th>\n    </tr>\n  </thead>\n  <tbody>\n    <tr>\n      <th>393</th>\n      <td>44</td>\n      <td>2</td>\n      <td>1</td>\n      <td>Avatar</td>\n      <td>Firstperson</td>\n      <td>AvatarFirstperson</td>\n      <td>4</td>\n      <td>loch war in ein wäldchen in dem ein grosses ha...</td>\n    </tr>\n  </tbody>\n</table>\n</div>"
     },
     "execution_count": 11,
     "metadata": {},
     "output_type": "execute_result"
    }
   ],
   "source": [
    "#One of the annotators mistakenly rated this transcription with a 2\n",
    "df_transcription[df_transcription['rating_1']==2]"
   ],
   "metadata": {
    "collapsed": false,
    "pycharm": {
     "name": "#%%\n"
    }
   }
  },
  {
   "cell_type": "code",
   "execution_count": 12,
   "outputs": [
    {
     "name": "stdout",
     "output_type": "stream",
     "text": [
      "Resulting number of transcriptions: 771\n"
     ]
    }
   ],
   "source": [
    "df_transcription = df_transcription[df_transcription['rating_1']!=2]\n",
    "print (f'Resulting number of transcriptions: {df_transcription.shape[0]}')"
   ],
   "metadata": {
    "collapsed": false,
    "pycharm": {
     "name": "#%%\n"
    }
   }
  },
  {
   "cell_type": "code",
   "execution_count": 13,
   "outputs": [
    {
     "name": "stdout",
     "output_type": "stream",
     "text": [
      "Resulting number of transcriptions: 753\n"
     ]
    }
   ],
   "source": [
    "# Participants 22 , 66, 75, 81 aborted the experiment, hence they will be excluded from the analysis\n",
    "df_transcription =df_transcription[df_transcription['id'] != 22]\n",
    "df_transcription = df_transcription[df_transcription['id'] != 66]\n",
    "df_transcription = df_transcription[df_transcription['id'] != 75]\n",
    "df_transcription = df_transcription[df_transcription['id'] != 81]\n",
    "print(f'Resulting number of transcriptions: {df_transcription.shape[0]}')"
   ],
   "metadata": {
    "collapsed": false,
    "pycharm": {
     "name": "#%%\n"
    }
   }
  },
  {
   "cell_type": "code",
   "execution_count": 14,
   "outputs": [
    {
     "name": "stdout",
     "output_type": "stream",
     "text": [
      "Resulting number of transcriptions: 743\n"
     ]
    }
   ],
   "source": [
    "# Exclude unsuccessful transcriptions due to audio recording issues.\n",
    "df_transcription = df_transcription[df_transcription['transcription'] != '   ']\n",
    "# df_transcription = df_transcription[(df_transcription['id']==84) & (df_transcription['condition_mode']=='AvatarHybrid') & (df_transcription['condition_mode']=='AvatarHybrid')&(df_transcription['station']!=2)]\n",
    "df_transcription = df_transcription[df_transcription['transcription']!= 'A O WESE O  OI   ']\n",
    "print (f'Resulting number of transcriptions: {df_transcription.shape[0]}')"
   ],
   "metadata": {
    "collapsed": false,
    "pycharm": {
     "name": "#%%\n"
    }
   }
  },
  {
   "cell_type": "markdown",
   "source": [
    "## Cohen's Kappa\n",
    "### Rating transcriptions:\n",
    "- Transcriptions were anonymized so that raters did not know what condition, mode or id a transcription belonged to.\n",
    "- Raters were handed out a csv file with a sample of the transcriptions. This file contained two columns:\n",
    "    - id_transcription: a coded representation of the id, condition and mode. (Raters did not know what this code stood for.)\n",
    "    - transcription: text with the audio file transcription.\n",
    "    - rating: raters fill out this column with any of the following:\n",
    "        - 0: which stood for undefined. The transcription was neither first person nor third person.\n",
    "        - 1: which stood for first person.\n",
    "        -  3: which stood for third person.\n",
    "\n",
    "- The rating process was carried out in two iterations:\n",
    "    - Iteration 1: raters were handed out samples of the transcriptions.\n",
    "    - Iteration 2: raters were handed out a **different** sample of the transcriptions.\n",
    "\n",
    "In this section we will use Cohen's Kappa to measure the agreement between the two raters when classifying the transcriptions.\n",
    "https://scikit-learn.org/stable/modules/generated/sklearn.metrics.cohen_kappa_score.html"
   ],
   "metadata": {
    "collapsed": false
   }
  },
  {
   "cell_type": "code",
   "execution_count": 15,
   "outputs": [
    {
     "data": {
      "text/plain": "0.2774385319839865"
     },
     "execution_count": 15,
     "metadata": {},
     "output_type": "execute_result"
    }
   ],
   "source": [
    "sklearn.metrics.cohen_kappa_score(df_transcription['rating_1'].values, df_transcription['rating_2'].values)"
   ],
   "metadata": {
    "collapsed": false,
    "pycharm": {
     "name": "#%%\n"
    }
   }
  },
  {
   "cell_type": "markdown",
   "source": [
    "#### Cohen's kappa interpretation:\n",
    "<a href=\"https://scikit-learn.org/stable/modules/generated/sklearn.metrics.cohen_kappa_score.html\">The kappa statistic, which is a number between -1 and 1. The maximum value means complete agreement; zero or lower means chance agreement.</a> Thus, given a kappa statistic of 0.27 (see above) we can conclude that there is some mutual agreement between the raters."
   ],
   "metadata": {
    "collapsed": false
   }
  },
  {
   "cell_type": "markdown",
   "source": [
    "### Rating visualization:"
   ],
   "metadata": {
    "collapsed": false
   }
  },
  {
   "cell_type": "code",
   "execution_count": 16,
   "outputs": [
    {
     "data": {
      "text/plain": "<Figure size 1800x1080 with 4 Axes>",
      "image/png": "[encoded data removed]"
     },
     "metadata": {},
     "output_type": "display_data"
    }
   ],
   "source": [
    "plots_transcription(df_transcription)"
   ],
   "metadata": {
    "collapsed": false,
    "pycharm": {
     "name": "#%%\n"
    }
   }
  },
  {
   "cell_type": "code",
   "execution_count": 17,
   "outputs": [
    {
     "data": {
      "text/plain": "     id         mode condition  rating_1\n0     1       Hybrid      Blob         3\n1     1       Hybrid      Blob         3\n3     1  Firstperson      Blob         3\n4     1       Hybrid      Blob         3\n5     1       Hybrid      Blob         3\n..   ..          ...       ...       ...\n767  87       Hybrid      Blob         3\n768  87  Firstperson      Blob         3\n769  87  Firstperson      Blob         1\n770  87       Hybrid      Blob         3\n771  87  Firstperson      Blob         3\n\n[682 rows x 4 columns]",
      "text/html": "<div>\n<style scoped>\n    .dataframe tbody tr th:only-of-type {\n        vertical-align: middle;\n    }\n\n    .dataframe tbody tr th {\n        vertical-align: top;\n    }\n\n    .dataframe thead th {\n        text-align: right;\n    }\n</style>\n<table border=\"1\" class=\"dataframe\">\n  <thead>\n    <tr style=\"text-align: right;\">\n      <th></th>\n      <th>id</th>\n      <th>mode</th>\n      <th>condition</th>\n      <th>rating_1</th>\n    </tr>\n  </thead>\n  <tbody>\n    <tr>\n      <th>0</th>\n      <td>1</td>\n      <td>Hybrid</td>\n      <td>Blob</td>\n      <td>3</td>\n    </tr>\n    <tr>\n      <th>1</th>\n      <td>1</td>\n      <td>Hybrid</td>\n      <td>Blob</td>\n      <td>3</td>\n    </tr>\n    <tr>\n      <th>3</th>\n      <td>1</td>\n      <td>Firstperson</td>\n      <td>Blob</td>\n      <td>3</td>\n    </tr>\n    <tr>\n      <th>4</th>\n      <td>1</td>\n      <td>Hybrid</td>\n      <td>Blob</td>\n      <td>3</td>\n    </tr>\n    <tr>\n      <th>5</th>\n      <td>1</td>\n      <td>Hybrid</td>\n      <td>Blob</td>\n      <td>3</td>\n    </tr>\n    <tr>\n      <th>...</th>\n      <td>...</td>\n      <td>...</td>\n      <td>...</td>\n      <td>...</td>\n    </tr>\n    <tr>\n      <th>767</th>\n      <td>87</td>\n      <td>Hybrid</td>\n      <td>Blob</td>\n      <td>3</td>\n    </tr>\n    <tr>\n      <th>768</th>\n      <td>87</td>\n      <td>Firstperson</td>\n      <td>Blob</td>\n      <td>3</td>\n    </tr>\n    <tr>\n      <th>769</th>\n      <td>87</td>\n      <td>Firstperson</td>\n      <td>Blob</td>\n      <td>1</td>\n    </tr>\n    <tr>\n      <th>770</th>\n      <td>87</td>\n      <td>Hybrid</td>\n      <td>Blob</td>\n      <td>3</td>\n    </tr>\n    <tr>\n      <th>771</th>\n      <td>87</td>\n      <td>Firstperson</td>\n      <td>Blob</td>\n      <td>3</td>\n    </tr>\n  </tbody>\n</table>\n<p>682 rows × 4 columns</p>\n</div>"
     },
     "execution_count": 17,
     "metadata": {},
     "output_type": "execute_result"
    }
   ],
   "source": [
    "df_cleaned_rat_1 = df_transcription.query('rating_1!=0')[['id', 'mode', 'condition', 'rating_1']]\n",
    "df_cleaned_rat_1"
   ],
   "metadata": {
    "collapsed": false,
    "pycharm": {
     "name": "#%%\n"
    }
   }
  },
  {
   "cell_type": "code",
   "execution_count": 18,
   "outputs": [
    {
     "data": {
      "text/plain": "61"
     },
     "execution_count": 18,
     "metadata": {},
     "output_type": "execute_result"
    }
   ],
   "source": [
    "len(df_transcription) - len(df_cleaned_rat_1)"
   ],
   "metadata": {
    "collapsed": false,
    "pycharm": {
     "name": "#%%\n"
    }
   }
  },
  {
   "cell_type": "code",
   "execution_count": 19,
   "outputs": [
    {
     "data": {
      "text/plain": "     id         mode condition  rating_2\n0     1       Hybrid      Blob         3\n1     1       Hybrid      Blob         3\n3     1  Firstperson      Blob         3\n4     1       Hybrid      Blob         3\n6     1       Hybrid      Blob         3\n..   ..          ...       ...       ...\n766  87  Firstperson      Blob         3\n768  87  Firstperson      Blob         3\n769  87  Firstperson      Blob         3\n770  87       Hybrid      Blob         1\n771  87  Firstperson      Blob         3\n\n[663 rows x 4 columns]",
      "text/html": "<div>\n<style scoped>\n    .dataframe tbody tr th:only-of-type {\n        vertical-align: middle;\n    }\n\n    .dataframe tbody tr th {\n        vertical-align: top;\n    }\n\n    .dataframe thead th {\n        text-align: right;\n    }\n</style>\n<table border=\"1\" class=\"dataframe\">\n  <thead>\n    <tr style=\"text-align: right;\">\n      <th></th>\n      <th>id</th>\n      <th>mode</th>\n      <th>condition</th>\n      <th>rating_2</th>\n    </tr>\n  </thead>\n  <tbody>\n    <tr>\n      <th>0</th>\n      <td>1</td>\n      <td>Hybrid</td>\n      <td>Blob</td>\n      <td>3</td>\n    </tr>\n    <tr>\n      <th>1</th>\n      <td>1</td>\n      <td>Hybrid</td>\n      <td>Blob</td>\n      <td>3</td>\n    </tr>\n    <tr>\n      <th>3</th>\n      <td>1</td>\n      <td>Firstperson</td>\n      <td>Blob</td>\n      <td>3</td>\n    </tr>\n    <tr>\n      <th>4</th>\n      <td>1</td>\n      <td>Hybrid</td>\n      <td>Blob</td>\n      <td>3</td>\n    </tr>\n    <tr>\n      <th>6</th>\n      <td>1</td>\n      <td>Hybrid</td>\n      <td>Blob</td>\n      <td>3</td>\n    </tr>\n    <tr>\n      <th>...</th>\n      <td>...</td>\n      <td>...</td>\n      <td>...</td>\n      <td>...</td>\n    </tr>\n    <tr>\n      <th>766</th>\n      <td>87</td>\n      <td>Firstperson</td>\n      <td>Blob</td>\n      <td>3</td>\n    </tr>\n    <tr>\n      <th>768</th>\n      <td>87</td>\n      <td>Firstperson</td>\n      <td>Blob</td>\n      <td>3</td>\n    </tr>\n    <tr>\n      <th>769</th>\n      <td>87</td>\n      <td>Firstperson</td>\n      <td>Blob</td>\n      <td>3</td>\n    </tr>\n    <tr>\n      <th>770</th>\n      <td>87</td>\n      <td>Hybrid</td>\n      <td>Blob</td>\n      <td>1</td>\n    </tr>\n    <tr>\n      <th>771</th>\n      <td>87</td>\n      <td>Firstperson</td>\n      <td>Blob</td>\n      <td>3</td>\n    </tr>\n  </tbody>\n</table>\n<p>663 rows × 4 columns</p>\n</div>"
     },
     "execution_count": 19,
     "metadata": {},
     "output_type": "execute_result"
    }
   ],
   "source": [
    "df_cleaned_rat_2 = df_transcription.query('rating_2!=0')[['id', 'mode', 'condition', 'rating_2']]\n",
    "df_cleaned_rat_2"
   ],
   "metadata": {
    "collapsed": false,
    "pycharm": {
     "name": "#%%\n"
    }
   }
  },
  {
   "cell_type": "code",
   "execution_count": 20,
   "outputs": [
    {
     "data": {
      "text/plain": "80"
     },
     "execution_count": 20,
     "metadata": {},
     "output_type": "execute_result"
    }
   ],
   "source": [
    "len(df_transcription) - len(df_cleaned_rat_2)"
   ],
   "metadata": {
    "collapsed": false,
    "pycharm": {
     "name": "#%%\n"
    }
   }
  },
  {
   "cell_type": "code",
   "execution_count": 21,
   "outputs": [
    {
     "data": {
      "text/plain": "    condition         mode  rating_1\n0        Blob       Hybrid         3\n1        Blob       Hybrid         3\n3        Blob  Firstperson         3\n4        Blob       Hybrid         3\n5        Blob       Hybrid         3\n..        ...          ...       ...\n767      Blob       Hybrid         3\n768      Blob  Firstperson         3\n769      Blob  Firstperson         1\n770      Blob       Hybrid         3\n771      Blob  Firstperson         3\n\n[682 rows x 3 columns]",
      "text/html": "<div>\n<style scoped>\n    .dataframe tbody tr th:only-of-type {\n        vertical-align: middle;\n    }\n\n    .dataframe tbody tr th {\n        vertical-align: top;\n    }\n\n    .dataframe thead th {\n        text-align: right;\n    }\n</style>\n<table border=\"1\" class=\"dataframe\">\n  <thead>\n    <tr style=\"text-align: right;\">\n      <th></th>\n      <th>condition</th>\n      <th>mode</th>\n      <th>rating_1</th>\n    </tr>\n  </thead>\n  <tbody>\n    <tr>\n      <th>0</th>\n      <td>Blob</td>\n      <td>Hybrid</td>\n      <td>3</td>\n    </tr>\n    <tr>\n      <th>1</th>\n      <td>Blob</td>\n      <td>Hybrid</td>\n      <td>3</td>\n    </tr>\n    <tr>\n      <th>3</th>\n      <td>Blob</td>\n      <td>Firstperson</td>\n      <td>3</td>\n    </tr>\n    <tr>\n      <th>4</th>\n      <td>Blob</td>\n      <td>Hybrid</td>\n      <td>3</td>\n    </tr>\n    <tr>\n      <th>5</th>\n      <td>Blob</td>\n      <td>Hybrid</td>\n      <td>3</td>\n    </tr>\n    <tr>\n      <th>...</th>\n      <td>...</td>\n      <td>...</td>\n      <td>...</td>\n    </tr>\n    <tr>\n      <th>767</th>\n      <td>Blob</td>\n      <td>Hybrid</td>\n      <td>3</td>\n    </tr>\n    <tr>\n      <th>768</th>\n      <td>Blob</td>\n      <td>Firstperson</td>\n      <td>3</td>\n    </tr>\n    <tr>\n      <th>769</th>\n      <td>Blob</td>\n      <td>Firstperson</td>\n      <td>1</td>\n    </tr>\n    <tr>\n      <th>770</th>\n      <td>Blob</td>\n      <td>Hybrid</td>\n      <td>3</td>\n    </tr>\n    <tr>\n      <th>771</th>\n      <td>Blob</td>\n      <td>Firstperson</td>\n      <td>3</td>\n    </tr>\n  </tbody>\n</table>\n<p>682 rows × 3 columns</p>\n</div>"
     },
     "execution_count": 21,
     "metadata": {},
     "output_type": "execute_result"
    }
   ],
   "source": [
    "df_rat_1 = df_cleaned_rat_1[['condition','mode', 'rating_1']]\n",
    "df_rat_1"
   ],
   "metadata": {
    "collapsed": false,
    "pycharm": {
     "name": "#%%\n"
    }
   }
  },
  {
   "cell_type": "code",
   "execution_count": 22,
   "outputs": [
    {
     "data": {
      "text/plain": "  condition         mode  counts\n0    Avatar  Firstperson     144\n1    Avatar       Hybrid     189\n2      Blob  Firstperson     176\n3      Blob       Hybrid     173",
      "text/html": "<div>\n<style scoped>\n    .dataframe tbody tr th:only-of-type {\n        vertical-align: middle;\n    }\n\n    .dataframe tbody tr th {\n        vertical-align: top;\n    }\n\n    .dataframe thead th {\n        text-align: right;\n    }\n</style>\n<table border=\"1\" class=\"dataframe\">\n  <thead>\n    <tr style=\"text-align: right;\">\n      <th></th>\n      <th>condition</th>\n      <th>mode</th>\n      <th>counts</th>\n    </tr>\n  </thead>\n  <tbody>\n    <tr>\n      <th>0</th>\n      <td>Avatar</td>\n      <td>Firstperson</td>\n      <td>144</td>\n    </tr>\n    <tr>\n      <th>1</th>\n      <td>Avatar</td>\n      <td>Hybrid</td>\n      <td>189</td>\n    </tr>\n    <tr>\n      <th>2</th>\n      <td>Blob</td>\n      <td>Firstperson</td>\n      <td>176</td>\n    </tr>\n    <tr>\n      <th>3</th>\n      <td>Blob</td>\n      <td>Hybrid</td>\n      <td>173</td>\n    </tr>\n  </tbody>\n</table>\n</div>"
     },
     "execution_count": 22,
     "metadata": {},
     "output_type": "execute_result"
    }
   ],
   "source": [
    "df_rat_1_total = (df_rat_1.groupby(['condition','mode'])\n",
    "                .count()\n",
    "                .rename(columns={'rating_1' : 'counts'})\n",
    "                .reset_index())\n",
    "df_rat_1_total"
   ],
   "metadata": {
    "collapsed": false,
    "pycharm": {
     "name": "#%%\n"
    }
   }
  },
  {
   "cell_type": "code",
   "execution_count": 23,
   "outputs": [
    {
     "data": {
      "text/plain": "    condition         mode  rating_2\n0        Blob       Hybrid         3\n1        Blob       Hybrid         3\n3        Blob  Firstperson         3\n4        Blob       Hybrid         3\n6        Blob       Hybrid         3\n..        ...          ...       ...\n766      Blob  Firstperson         3\n768      Blob  Firstperson         3\n769      Blob  Firstperson         3\n770      Blob       Hybrid         1\n771      Blob  Firstperson         3\n\n[663 rows x 3 columns]",
      "text/html": "<div>\n<style scoped>\n    .dataframe tbody tr th:only-of-type {\n        vertical-align: middle;\n    }\n\n    .dataframe tbody tr th {\n        vertical-align: top;\n    }\n\n    .dataframe thead th {\n        text-align: right;\n    }\n</style>\n<table border=\"1\" class=\"dataframe\">\n  <thead>\n    <tr style=\"text-align: right;\">\n      <th></th>\n      <th>condition</th>\n      <th>mode</th>\n      <th>rating_2</th>\n    </tr>\n  </thead>\n  <tbody>\n    <tr>\n      <th>0</th>\n      <td>Blob</td>\n      <td>Hybrid</td>\n      <td>3</td>\n    </tr>\n    <tr>\n      <th>1</th>\n      <td>Blob</td>\n      <td>Hybrid</td>\n      <td>3</td>\n    </tr>\n    <tr>\n      <th>3</th>\n      <td>Blob</td>\n      <td>Firstperson</td>\n      <td>3</td>\n    </tr>\n    <tr>\n      <th>4</th>\n      <td>Blob</td>\n      <td>Hybrid</td>\n      <td>3</td>\n    </tr>\n    <tr>\n      <th>6</th>\n      <td>Blob</td>\n      <td>Hybrid</td>\n      <td>3</td>\n    </tr>\n    <tr>\n      <th>...</th>\n      <td>...</td>\n      <td>...</td>\n      <td>...</td>\n    </tr>\n    <tr>\n      <th>766</th>\n      <td>Blob</td>\n      <td>Firstperson</td>\n      <td>3</td>\n    </tr>\n    <tr>\n      <th>768</th>\n      <td>Blob</td>\n      <td>Firstperson</td>\n      <td>3</td>\n    </tr>\n    <tr>\n      <th>769</th>\n      <td>Blob</td>\n      <td>Firstperson</td>\n      <td>3</td>\n    </tr>\n    <tr>\n      <th>770</th>\n      <td>Blob</td>\n      <td>Hybrid</td>\n      <td>1</td>\n    </tr>\n    <tr>\n      <th>771</th>\n      <td>Blob</td>\n      <td>Firstperson</td>\n      <td>3</td>\n    </tr>\n  </tbody>\n</table>\n<p>663 rows × 3 columns</p>\n</div>"
     },
     "execution_count": 23,
     "metadata": {},
     "output_type": "execute_result"
    }
   ],
   "source": [
    "df_rat_2 = df_cleaned_rat_2[['condition','mode', 'rating_2']]\n",
    "df_rat_2"
   ],
   "metadata": {
    "collapsed": false,
    "pycharm": {
     "name": "#%%\n"
    }
   }
  },
  {
   "cell_type": "code",
   "execution_count": 24,
   "outputs": [
    {
     "data": {
      "text/plain": "  condition         mode  counts\n0    Avatar  Firstperson     140\n1    Avatar       Hybrid     183\n2      Blob  Firstperson     170\n3      Blob       Hybrid     170",
      "text/html": "<div>\n<style scoped>\n    .dataframe tbody tr th:only-of-type {\n        vertical-align: middle;\n    }\n\n    .dataframe tbody tr th {\n        vertical-align: top;\n    }\n\n    .dataframe thead th {\n        text-align: right;\n    }\n</style>\n<table border=\"1\" class=\"dataframe\">\n  <thead>\n    <tr style=\"text-align: right;\">\n      <th></th>\n      <th>condition</th>\n      <th>mode</th>\n      <th>counts</th>\n    </tr>\n  </thead>\n  <tbody>\n    <tr>\n      <th>0</th>\n      <td>Avatar</td>\n      <td>Firstperson</td>\n      <td>140</td>\n    </tr>\n    <tr>\n      <th>1</th>\n      <td>Avatar</td>\n      <td>Hybrid</td>\n      <td>183</td>\n    </tr>\n    <tr>\n      <th>2</th>\n      <td>Blob</td>\n      <td>Firstperson</td>\n      <td>170</td>\n    </tr>\n    <tr>\n      <th>3</th>\n      <td>Blob</td>\n      <td>Hybrid</td>\n      <td>170</td>\n    </tr>\n  </tbody>\n</table>\n</div>"
     },
     "execution_count": 24,
     "metadata": {},
     "output_type": "execute_result"
    }
   ],
   "source": [
    "df_rat_2_total = (df_rat_2.groupby(['condition','mode'])\n",
    "                  .count()\n",
    "                  .rename(columns={'rating_2' : 'counts'})\n",
    "                  .reset_index())\n",
    "df_rat_2_total"
   ],
   "metadata": {
    "collapsed": false,
    "pycharm": {
     "name": "#%%\n"
    }
   }
  },
  {
   "cell_type": "code",
   "execution_count": 25,
   "outputs": [
    {
     "data": {
      "text/plain": "  condition         mode  rating_1    prop_1\n0      Blob  Firstperson         1  0.755682\n1      Blob       Hybrid         1  0.635838\n2    Avatar       Hybrid         1  0.576720\n3    Avatar  Firstperson         1  0.694444\n4    Avatar       Hybrid         3  0.423280\n5      Blob       Hybrid         3  0.364162\n6    Avatar  Firstperson         3  0.305556\n7      Blob  Firstperson         3  0.244318",
      "text/html": "<div>\n<style scoped>\n    .dataframe tbody tr th:only-of-type {\n        vertical-align: middle;\n    }\n\n    .dataframe tbody tr th {\n        vertical-align: top;\n    }\n\n    .dataframe thead th {\n        text-align: right;\n    }\n</style>\n<table border=\"1\" class=\"dataframe\">\n  <thead>\n    <tr style=\"text-align: right;\">\n      <th></th>\n      <th>condition</th>\n      <th>mode</th>\n      <th>rating_1</th>\n      <th>prop_1</th>\n    </tr>\n  </thead>\n  <tbody>\n    <tr>\n      <th>0</th>\n      <td>Blob</td>\n      <td>Firstperson</td>\n      <td>1</td>\n      <td>0.755682</td>\n    </tr>\n    <tr>\n      <th>1</th>\n      <td>Blob</td>\n      <td>Hybrid</td>\n      <td>1</td>\n      <td>0.635838</td>\n    </tr>\n    <tr>\n      <th>2</th>\n      <td>Avatar</td>\n      <td>Hybrid</td>\n      <td>1</td>\n      <td>0.576720</td>\n    </tr>\n    <tr>\n      <th>3</th>\n      <td>Avatar</td>\n      <td>Firstperson</td>\n      <td>1</td>\n      <td>0.694444</td>\n    </tr>\n    <tr>\n      <th>4</th>\n      <td>Avatar</td>\n      <td>Hybrid</td>\n      <td>3</td>\n      <td>0.423280</td>\n    </tr>\n    <tr>\n      <th>5</th>\n      <td>Blob</td>\n      <td>Hybrid</td>\n      <td>3</td>\n      <td>0.364162</td>\n    </tr>\n    <tr>\n      <th>6</th>\n      <td>Avatar</td>\n      <td>Firstperson</td>\n      <td>3</td>\n      <td>0.305556</td>\n    </tr>\n    <tr>\n      <th>7</th>\n      <td>Blob</td>\n      <td>Firstperson</td>\n      <td>3</td>\n      <td>0.244318</td>\n    </tr>\n  </tbody>\n</table>\n</div>"
     },
     "execution_count": 25,
     "metadata": {},
     "output_type": "execute_result"
    }
   ],
   "source": [
    "def max_value_rat_1(df):\n",
    "    cond = df.condition\n",
    "    mode = df['mode']\n",
    "    return (df_rat_1_total\n",
    "            .query('condition==@cond and mode==@mode')\n",
    "            .counts\n",
    "            .values[0])\n",
    "\n",
    "df_rat_1_prop = df_rat_1.value_counts().reset_index().rename(columns={0 : 'counts'})\n",
    "df_rat_1_prop['prop_1'] = df_rat_1_prop.counts / df_rat_1_prop.apply(lambda df : max_value_rat_1(df), axis=1)\n",
    "df_rat_1_prop.drop(columns=['counts'], inplace=True)\n",
    "df_rat_1_prop"
   ],
   "metadata": {
    "collapsed": false,
    "pycharm": {
     "name": "#%%\n"
    }
   }
  },
  {
   "cell_type": "code",
   "execution_count": 26,
   "outputs": [
    {
     "data": {
      "text/plain": "  condition         mode  rating_2    prop_2\n0      Blob  Firstperson         1  0.735294\n1    Avatar       Hybrid         1  0.677596\n2      Blob       Hybrid         1  0.705882\n3    Avatar  Firstperson         1  0.700000\n4    Avatar       Hybrid         3  0.322404\n5      Blob       Hybrid         3  0.294118\n6      Blob  Firstperson         3  0.264706\n7    Avatar  Firstperson         3  0.300000",
      "text/html": "<div>\n<style scoped>\n    .dataframe tbody tr th:only-of-type {\n        vertical-align: middle;\n    }\n\n    .dataframe tbody tr th {\n        vertical-align: top;\n    }\n\n    .dataframe thead th {\n        text-align: right;\n    }\n</style>\n<table border=\"1\" class=\"dataframe\">\n  <thead>\n    <tr style=\"text-align: right;\">\n      <th></th>\n      <th>condition</th>\n      <th>mode</th>\n      <th>rating_2</th>\n      <th>prop_2</th>\n    </tr>\n  </thead>\n  <tbody>\n    <tr>\n      <th>0</th>\n      <td>Blob</td>\n      <td>Firstperson</td>\n      <td>1</td>\n      <td>0.735294</td>\n    </tr>\n    <tr>\n      <th>1</th>\n      <td>Avatar</td>\n      <td>Hybrid</td>\n      <td>1</td>\n      <td>0.677596</td>\n    </tr>\n    <tr>\n      <th>2</th>\n      <td>Blob</td>\n      <td>Hybrid</td>\n      <td>1</td>\n      <td>0.705882</td>\n    </tr>\n    <tr>\n      <th>3</th>\n      <td>Avatar</td>\n      <td>Firstperson</td>\n      <td>1</td>\n      <td>0.700000</td>\n    </tr>\n    <tr>\n      <th>4</th>\n      <td>Avatar</td>\n      <td>Hybrid</td>\n      <td>3</td>\n      <td>0.322404</td>\n    </tr>\n    <tr>\n      <th>5</th>\n      <td>Blob</td>\n      <td>Hybrid</td>\n      <td>3</td>\n      <td>0.294118</td>\n    </tr>\n    <tr>\n      <th>6</th>\n      <td>Blob</td>\n      <td>Firstperson</td>\n      <td>3</td>\n      <td>0.264706</td>\n    </tr>\n    <tr>\n      <th>7</th>\n      <td>Avatar</td>\n      <td>Firstperson</td>\n      <td>3</td>\n      <td>0.300000</td>\n    </tr>\n  </tbody>\n</table>\n</div>"
     },
     "execution_count": 26,
     "metadata": {},
     "output_type": "execute_result"
    }
   ],
   "source": [
    "def max_value_rat_2(df):\n",
    "    cond = df.condition\n",
    "    mode = df['mode']\n",
    "    return (df_rat_2_total\n",
    "        .query('condition==@cond and mode==@mode')\n",
    "        .counts\n",
    "        .values[0])\n",
    "\n",
    "df_rat_2_prop = df_rat_2.value_counts().reset_index().rename(columns={0 : 'counts'})\n",
    "df_rat_2_prop['prop_2'] = df_rat_2_prop.counts / df_rat_2_prop.apply(lambda df : max_value_rat_2(df), axis=1)\n",
    "df_rat_2_prop.drop(columns=['counts'], inplace=True)\n",
    "df_rat_2_prop"
   ],
   "metadata": {
    "collapsed": false,
    "pycharm": {
     "name": "#%%\n"
    }
   }
  },
  {
   "cell_type": "code",
   "execution_count": 27,
   "outputs": [
    {
     "data": {
      "text/plain": "<Figure size 1800x1080 with 4 Axes>",
      "image/png": "[encoded data removed]"
     },
     "metadata": {},
     "output_type": "display_data"
    }
   ],
   "source": [
    "fig, axes = plt.subplots(2, 2, figsize=(25,15), sharex=True, sharey=True)\n",
    "\n",
    "sns.set_palette('tab10')\n",
    "p1 = sns.barplot(\n",
    "    data=df_rat_1_prop,\n",
    "    x='rating_1',\n",
    "    y='prop_1',\n",
    "    hue='condition',\n",
    "    ci=95,\n",
    "    ax=axes[0,0])\n",
    "\n",
    "for p in p1.patches:\n",
    "    p1.annotate(format(p.get_height(), '.2f'), (p.get_x() + p.get_width() / 2., p.get_height()), ha = 'center', va = 'center', xytext = (0, 40), textcoords = 'offset points')\n",
    "\n",
    "axes[0,0].set_title('Rating 1 Condition', size=24)\n",
    "\n",
    "p2 = sns.barplot(\n",
    "    data=df_rat_1_prop,\n",
    "    x='rating_1',\n",
    "    y='prop_1',\n",
    "    hue='mode',\n",
    "    ci=95,\n",
    "    ax=axes[0,1])\n",
    "\n",
    "for p in p2.patches:\n",
    "    p2.annotate(format(p.get_height(), '.2f'), (p.get_x() + p.get_width() / 2., p.get_height()), ha = 'center', va = 'center', xytext = (0, 30), textcoords = 'offset points')\n",
    "\n",
    "axes[0,1].set_title('Rating 1 Mode', size=24)\n",
    "\n",
    "p3 = sns.barplot(\n",
    "    data=df_rat_2_prop,\n",
    "    x='rating_2',\n",
    "    y='prop_2',\n",
    "    hue='condition',\n",
    "    ci=95,\n",
    "    ax=axes[1,0])\n",
    "\n",
    "for p in p3.patches:\n",
    "    p3.annotate(format(p.get_height(), '.2f'), (p.get_x() + p.get_width() / 2., p.get_height()), ha = 'center', va = 'center', xytext = (0, 25), textcoords = 'offset points')\n",
    "\n",
    "axes[1,0].set_title('Rating 2 Condition', size=24)\n",
    "\n",
    "\n",
    "p4 = sns.barplot(\n",
    "    data=df_rat_2_prop,\n",
    "    x='rating_2',\n",
    "    y='prop_2',\n",
    "    hue='mode',\n",
    "    ci=95,\n",
    "    ax=axes[1,1])\n",
    "\n",
    "for p in p4.patches:\n",
    "    p4.annotate(format(p.get_height(), '.2f'), (p.get_x() + p.get_width() / 2., p.get_height()), ha = 'center', va = 'center', xytext = (0, 25), textcoords = 'offset points')\n",
    "\n",
    "axes[1,1].set_title('Rating 2 Mode', size=24)\n",
    "\n",
    "plt.setp(axes, ylim=(0,1), xlabel='', ylabel='')\n",
    "axes[0,0].set_ylabel('proportion', fontsize=20)\n",
    "axes[0,0].legend(fontsize=20)\n",
    "\n",
    "axes[0,1].legend(fontsize=20)\n",
    "\n",
    "axes[1,0].set_ylabel('proportion', fontsize=20)\n",
    "axes[1,0].legend(fontsize=20)\n",
    "axes[1,0].set_xticklabels(['first person', 'third person'], fontsize=20)\n",
    "\n",
    "axes[1,1].legend(fontsize=20)\n",
    "axes[1,1].set_xticklabels(['first person', 'third person'], fontsize=20)\n",
    "\n",
    "plt.suptitle('Transcription ratings', size=36)\n",
    "\n",
    "plt.show()"
   ],
   "metadata": {
    "collapsed": false,
    "pycharm": {
     "name": "#%%\n"
    }
   }
  },
  {
   "cell_type": "markdown",
   "source": [
    "### Assumptions check and Anova (without zeros)"
   ],
   "metadata": {
    "collapsed": false
   }
  },
  {
   "cell_type": "markdown",
   "source": [
    "Rating 1"
   ],
   "metadata": {
    "collapsed": false
   }
  },
  {
   "cell_type": "code",
   "execution_count": 28,
   "outputs": [
    {
     "name": "stdout",
     "output_type": "stream",
     "text": [
      "Checking the assumptions for the dependent variable rating_1...\n",
      "\n",
      "The residuals are NOT approximately normally distributed for each level of the within-subjects factor! (tested using the Shapiro-Wilks Test)\n",
      "\n",
      "There should be equal variance for every level of within-subject factor:\n",
      "For the level Hybrid, Levene's test resulted in a p-value of 0.252, indicating that the assumption of equal variances is True.\n",
      "For the level First Person, Levene's test resulted in a p-value of 0.222, indicating that the assumption of equal variances is True.\n",
      "\n",
      "Mauchly’s test of sphericity resulted in a p-value of 1.0, indicating that the assumption is True.\n",
      "\n",
      "The homogeneity of variance-covariance matrices formed by the between-subject factor for each level of the within-subject factor should be equal:\n",
      "For the level First Person, Box’s M test resulted in a p-value of 0.378, indicating that the assumption is True.\n",
      "For the level Hybrid, Box’s M test resulted in a p-value of 0.726, indicating that the assumption is True.\n",
      "\n",
      "A data point is called an outlier if it > 3 sd away from the mean.\n",
      "There are no outliers!\n"
     ]
    }
   ],
   "source": [
    "check_assumptions(df_cleaned_rat_1,'rating_1','rating_1')"
   ],
   "metadata": {
    "collapsed": false,
    "pycharm": {
     "name": "#%%\n"
    }
   }
  },
  {
   "cell_type": "code",
   "execution_count": 29,
   "outputs": [
    {
     "name": "stdout",
     "output_type": "stream",
     "text": [
      "\n",
      "=============\n",
      "ANOVA SUMMARY\n",
      "=============\n",
      "\n",
      "Source          SS    DF1    DF2     MS       F    p-unc    np2      eps\n",
      "-----------  -----  -----  -----  -----  ------  -------  -----  -------\n",
      "condition    0.811      1     79  0.811   0.905    0.344  0.011  nan\n",
      "mode         2.090      1     79  2.090  11.081    0.001  0.123    1.000\n",
      "Interaction  0.031      1     79  0.031   0.166    0.685  0.002  nan\n",
      "\n"
     ]
    }
   ],
   "source": [
    "aov = pg.mixed_anova(dv='rating_1', within='mode', between='condition', subject='id', data=df_cleaned_rat_1)\n",
    "# Pretty printing of ANOVA summary\n",
    "pg.print_table(aov)"
   ],
   "metadata": {
    "collapsed": false,
    "pycharm": {
     "name": "#%%\n"
    }
   }
  },
  {
   "cell_type": "markdown",
   "source": [
    "Rating 2"
   ],
   "metadata": {
    "collapsed": false
   }
  },
  {
   "cell_type": "code",
   "execution_count": 30,
   "outputs": [
    {
     "name": "stdout",
     "output_type": "stream",
     "text": [
      "Checking the assumptions for the dependent variable rating_2...\n",
      "\n",
      "The residuals are NOT approximately normally distributed for each level of the within-subjects factor! (tested using the Shapiro-Wilks Test)\n",
      "\n",
      "There should be equal variance for every level of within-subject factor:\n",
      "For the level Hybrid, Levene's test resulted in a p-value of 0.576, indicating that the assumption of equal variances is True.\n",
      "For the level First Person, Levene's test resulted in a p-value of 0.426, indicating that the assumption of equal variances is True.\n",
      "\n",
      "Mauchly’s test of sphericity resulted in a p-value of 1.0, indicating that the assumption is True.\n",
      "\n",
      "The homogeneity of variance-covariance matrices formed by the between-subject factor for each level of the within-subject factor should be equal:\n",
      "For the level First Person, Box’s M test resulted in a p-value of 0.476, indicating that the assumption is True.\n",
      "For the level Hybrid, Box’s M test resulted in a p-value of 0.714, indicating that the assumption is True.\n",
      "\n",
      "A data point is called an outlier if it > 3 sd away from the mean.\n",
      "There are no outliers!\n"
     ]
    }
   ],
   "source": [
    "check_assumptions(df_transcription,'rating_2','rating_2')"
   ],
   "metadata": {
    "collapsed": false,
    "pycharm": {
     "name": "#%%\n"
    }
   }
  },
  {
   "cell_type": "code",
   "execution_count": 31,
   "outputs": [
    {
     "name": "stdout",
     "output_type": "stream",
     "text": [
      "\n",
      "=============\n",
      "ANOVA SUMMARY\n",
      "=============\n",
      "\n",
      "Source          SS    DF1    DF2     MS      F    p-unc    np2      eps\n",
      "-----------  -----  -----  -----  -----  -----  -------  -----  -------\n",
      "condition    0.233      1     78  0.233  0.354    0.554  0.005  nan\n",
      "mode         0.004      1     78  0.004  0.019    0.890  0.000    1.000\n",
      "Interaction  0.015      1     78  0.015  0.078    0.781  0.001  nan\n",
      "\n"
     ]
    }
   ],
   "source": [
    "aov = pg.mixed_anova(dv='rating_2', within='mode', between='condition', subject='id', data=df_cleaned_rat_2)\n",
    "# Pretty printing of ANOVA summary\n",
    "pg.print_table(aov)"
   ],
   "metadata": {
    "collapsed": false,
    "pycharm": {
     "name": "#%%\n"
    }
   }
  },
  {
   "cell_type": "markdown",
   "source": [
    "### Assumptions check and Anova"
   ],
   "metadata": {
    "collapsed": false
   }
  },
  {
   "cell_type": "markdown",
   "source": [
    "#### Rating_1"
   ],
   "metadata": {
    "collapsed": false
   }
  },
  {
   "cell_type": "code",
   "execution_count": 32,
   "outputs": [
    {
     "name": "stdout",
     "output_type": "stream",
     "text": [
      "Checking the assumptions for the dependent variable rating_1...\n",
      "\n",
      "The residuals are NOT approximately normally distributed for each level of the within-subjects factor! (tested using the Shapiro-Wilks Test)\n",
      "\n",
      "There should be equal variance for every level of within-subject factor:\n",
      "For the level Hybrid, Levene's test resulted in a p-value of 0.267, indicating that the assumption of equal variances is True.\n",
      "For the level First Person, Levene's test resulted in a p-value of 0.173, indicating that the assumption of equal variances is True.\n",
      "\n",
      "Mauchly’s test of sphericity resulted in a p-value of 1.0, indicating that the assumption is True.\n",
      "\n",
      "The homogeneity of variance-covariance matrices formed by the between-subject factor for each level of the within-subject factor should be equal:\n",
      "For the level First Person, Box’s M test resulted in a p-value of 0.223, indicating that the assumption is True.\n",
      "For the level Hybrid, Box’s M test resulted in a p-value of 0.76, indicating that the assumption is True.\n",
      "\n",
      "A data point is called an outlier if it > 3 sd away from the mean.\n",
      "There are no outliers!\n"
     ]
    }
   ],
   "source": [
    "check_assumptions(df_transcription,'rating_1','rating_1')"
   ],
   "metadata": {
    "collapsed": false,
    "pycharm": {
     "name": "#%%\n"
    }
   }
  },
  {
   "cell_type": "code",
   "execution_count": 33,
   "outputs": [
    {
     "name": "stdout",
     "output_type": "stream",
     "text": [
      "\n",
      "=============\n",
      "ANOVA SUMMARY\n",
      "=============\n",
      "\n",
      "Source          SS    DF1    DF2     MS      F    p-unc    np2      eps\n",
      "-----------  -----  -----  -----  -----  -----  -------  -----  -------\n",
      "condition    0.427      1     79  0.427  0.627    0.431  0.008  nan\n",
      "mode         2.155      1     79  2.155  9.910    0.002  0.111    1.000\n",
      "Interaction  0.070      1     79  0.070  0.321    0.573  0.004  nan\n",
      "\n"
     ]
    }
   ],
   "source": [
    "aov = pg.mixed_anova(dv='rating_1', within='mode', between='condition', subject='id', data=df_transcription)\n",
    "# Pretty printing of ANOVA summary\n",
    "pg.print_table(aov)"
   ],
   "metadata": {
    "collapsed": false,
    "pycharm": {
     "name": "#%%\n"
    }
   }
  },
  {
   "cell_type": "markdown",
   "source": [
    "#### Rating_2"
   ],
   "metadata": {
    "collapsed": false
   }
  },
  {
   "cell_type": "code",
   "execution_count": 34,
   "outputs": [
    {
     "name": "stdout",
     "output_type": "stream",
     "text": [
      "Checking the assumptions for the dependent variable rating_2...\n",
      "\n",
      "The residuals are NOT approximately normally distributed for each level of the within-subjects factor! (tested using the Shapiro-Wilks Test)\n",
      "\n",
      "There should be equal variance for every level of within-subject factor:\n",
      "For the level Hybrid, Levene's test resulted in a p-value of 0.576, indicating that the assumption of equal variances is True.\n",
      "For the level First Person, Levene's test resulted in a p-value of 0.426, indicating that the assumption of equal variances is True.\n",
      "\n",
      "Mauchly’s test of sphericity resulted in a p-value of 1.0, indicating that the assumption is True.\n",
      "\n",
      "The homogeneity of variance-covariance matrices formed by the between-subject factor for each level of the within-subject factor should be equal:\n",
      "For the level First Person, Box’s M test resulted in a p-value of 0.476, indicating that the assumption is True.\n",
      "For the level Hybrid, Box’s M test resulted in a p-value of 0.714, indicating that the assumption is True.\n",
      "\n",
      "A data point is called an outlier if it > 3 sd away from the mean.\n",
      "There are no outliers!\n"
     ]
    }
   ],
   "source": [
    "check_assumptions(df_transcription,'rating_2','rating_2')"
   ],
   "metadata": {
    "collapsed": false,
    "pycharm": {
     "name": "#%%\n"
    }
   }
  },
  {
   "cell_type": "code",
   "execution_count": 35,
   "outputs": [
    {
     "name": "stdout",
     "output_type": "stream",
     "text": [
      "\n",
      "=============\n",
      "ANOVA SUMMARY\n",
      "=============\n",
      "\n",
      "Source          SS    DF1    DF2     MS      F    p-unc    np2      eps\n",
      "-----------  -----  -----  -----  -----  -----  -------  -----  -------\n",
      "condition    0.058      1     79  0.058  0.112    0.739  0.001  nan\n",
      "mode         0.173      1     79  0.173  0.966    0.329  0.012    1.000\n",
      "Interaction  0.008      1     79  0.008  0.042    0.838  0.001  nan\n",
      "\n"
     ]
    }
   ],
   "source": [
    "aov = pg.mixed_anova(dv='rating_2', within='mode', between='condition', subject='id', data=df_transcription)\n",
    "# Pretty printing of ANOVA summary\n",
    "pg.print_table(aov)"
   ],
   "metadata": {
    "collapsed": false,
    "pycharm": {
     "name": "#%%\n"
    }
   }
  },
  {
   "cell_type": "code",
   "execution_count": 35,
   "outputs": [],
   "source": [],
   "metadata": {
    "collapsed": false,
    "pycharm": {
     "name": "#%%\n"
    }
   }
  }
 ],
 "metadata": {
  "kernelspec": {
   "display_name": "Python 3",
   "language": "python",
   "name": "python3"
  },
  "language_info": {
   "codemirror_mode": {
    "name": "ipython",
    "version": 2
   },
   "file_extension": ".py",
   "mimetype": "text/x-python",
   "name": "python",
   "nbconvert_exporter": "python",
   "pygments_lexer": "ipython2",
   "version": "2.7.6"
  }
 },
 "nbformat": 4,
 "nbformat_minor": 0
}